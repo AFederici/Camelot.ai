{
 "cells": [
  {
   "cell_type": "markdown",
   "metadata": {},
   "source": [
    "Your job here is to get the historical day-to-day pricing data for Ethereum from CoinMarketCap for all days (be sure to pick the right time range on the website!) before and including Dec 31, 2017. Write the function get_data(), which should print out whether or not the opening price was strictly greater than the closing price, for each day, in reverse chronological order. Print one line per day consisting of two space-separated items:\n",
    "the date, in the format DD/MM/YYYY\n",
    "1 if the opening price exceeds the closing price for that day, and 0 otherwise. \n",
    "Example 1:\n",
    "```\n",
    "Output:\n",
    "12/31/2017 <1 or 0>\n",
    "12/30/2017 <1 or 0>\n",
    "...\n",
    "```"
   ]
  },
  {
   "cell_type": "code",
   "execution_count": 1,
   "metadata": {
    "collapsed": true
   },
   "outputs": [],
   "source": [
    "from bs4 import BeautifulSoup\n",
    "import urllib\n",
    "import datetime\n",
    "import pandas as pd\n",
    "import string\n",
    "import numpy as np\n",
    "\n",
    "###########################################################################\n",
    "#\n",
    "# To send a HTTP request to http://example.com, and get the results, run:\n",
    "# r = urllib.request.urlopen('http://example.com').read()\n",
    "# soup = BeautifulSoup(r, \"lxml\")\n",
    "# \n",
    "# To convert their date format to datetime object, use:\n",
    "# dt = datetime.strptime(original_date, '%b %d, %Y') \n",
    "#\n",
    "# To convert the datetime object to desired DD/MM/YYYY format, use:\n",
    "# date = dt.strftime(\"%D\")\n",
    "#\n",
    "###########################################################################\n",
    "\n",
    "\n",
    "def strp(s):\n",
    "        exclude = set(string.punctuation)\n",
    "        x = ''.join(ch for ch in s if ch not in exclude)\n",
    "        return datetime.datetime.strptime(x, '%b %d %Y')\n",
    "def strp2(s):\n",
    "    return s.strftime(\"%D\")\n",
    "        \n",
    "def get_data(self): \n",
    "    url = 'https://coinmarketcap.com/currencies/ethereum/historical-data/?start=20130428&end=20171231'\n",
    "    r = urllib.request.urlopen(url).read()\n",
    "    soup = BeautifulSoup(r)\n",
    "    entries = []\n",
    "    rows = soup.find_all(\"tr\") # returns an array of <tr> objects\n",
    "    for row in rows:\n",
    "        cols = row.find_all(\"td\")\n",
    "        if len(cols) > 0:\n",
    "            entry = {\n",
    "                \"time\": cols[0].get_text(),\n",
    "                \"open\": float(cols[1].get_text()),\n",
    "                \"close\": float(cols[4].get_text())\n",
    "            }\n",
    "            entries.append(entry)\n",
    "\n",
    "    df = pd.DataFrame(entries)\n",
    "    df['date'] = df['time'].apply(strp)\n",
    "    df['date2'] = df['date'].apply(strp2)\n",
    "    for ind, row in df.iterrows():\n",
    "        if row['open'] > row['close']:\n",
    "            row['bool'] = 1 \n",
    "        else:\n",
    "            row['bool'] = 0 \n",
    "        print(row['date2'], row['bool'])"
   ]
  },
  {
   "cell_type": "markdown",
   "metadata": {},
   "source": [
    "Now that you've been able to obtain the daily prices of a cryptocurrency, let's take a look at how to compare two different coins. \n",
    "\n",
    "Golem is another cryptocurrency that is built on top of Ethereum's blockchain, so the two currencies should be very related. Using the same web scraping technique we previously implemented, we've obtained the daily closing prices for both Ethereum and Golem, from 1/1/2017 to 12/31/2017, chronologically. \n",
    "\n",
    "If you run the current boilerplate code, which just prints the raw input prices, you can see the results in our visualization. Clearly, the data is not very informative because the raw numerical prices of the two currencies are on two vastly different scales. We'll solve this using normalization.\n",
    "\n",
    "These two time series of prices will be passed in as arrays in your function, compare_coins(eth, golem), which will process the data into two modified lists that can provide more insight into comparing them.\n",
    "\n",
    "Your job is to scale each price list by a constant factor, so that the price on 1/1/2017 is scaled to equal $1. This will put the two datasets on an even playing ground. Print out the sequence of space-separated normalized prices, one day per line, in chronological order.\n",
    "\n",
    "Example 1:\n",
    "```\n",
    "Input: \n",
    "eth = [23, 24, 25, ...]\n",
    "golem = [1, 2, 3, ...]\n",
    "\n",
    "Output: \n",
    "1.00 1.00\n",
    "1.04 2.00\n",
    "...\n",
    "```"
   ]
  },
  {
   "cell_type": "code",
   "execution_count": 2,
   "metadata": {
    "collapsed": true
   },
   "outputs": [],
   "source": [
    "def compare_coins(self, eth, golem):\n",
    "    # Print out raw prices\n",
    "    scl_eth = eth[0]\n",
    "    scl_gol = golem[0]\n",
    "    for eth_price, golem_price in zip(eth, golem):\n",
    "        eth_price = 1.0 * eth_price / scl_eth\n",
    "        golem_price = 1.0 * golem_price / scl_gol\n",
    "        print(\"%.2f %.2f\" % (eth_price, golem_price))"
   ]
  },
  {
   "cell_type": "markdown",
   "metadata": {},
   "source": [
    "Lets take our comparison analysis one step further. We've been able to see a pretty good overview of how the two prices compare, but the goal is really to understand one coin relative to the other. Ethereum is much more prevalent as a cryptocurrency, so we'll use that as a baseline. Also note that the data points in the previous graph were unnecessarily dense. This time, we're going to smooth the prices out using a moving average of 5 days. \n",
    "\n",
    "Write a new function set_baseline(eth, golem), that takes in your previous result of the normalized prices (as two arrays), and prints the new, processed prices where Ethereum has been set as a baseline and smoothed. This involves 2 steps:\n",
    "1. First, transform the Ethereum prices into all $0 values, and recalculate the Golem prices as the fractional offset from the Ethereum price. For example, if at time t, the normalized price for Ethereum is 10, and Golem is at 9, then your output should be 0 for Ethereum and (9-10)/10 = -0.1 for Golem.\n",
    "2. After you do that, we want to smooth the values a bit. The adjusted Golem price value on day i should be the average of the values on days i, i+1, i+2, i+3, i+4. This also means your new results will be 4 days shorter than before.\n",
    "As before, print your results, one day per line, in chronological order. You'll be able to see the two time series again in our visualization.\n",
    "\n",
    "Example 1:\n",
    "```\n",
    "Input: \n",
    "eth = [8, 9, 10, ...]\n",
    "golem = [9, 11, 7, ...]\n",
    "\n",
    "Output:\n",
    "0.00 <golem_price_1>\n",
    "0.00 <golem_price_2>\n",
    "...\n",
    "```"
   ]
  },
  {
   "cell_type": "code",
   "execution_count": 3,
   "metadata": {
    "collapsed": true
   },
   "outputs": [],
   "source": [
    "def set_baseline(self, eth, golem):\n",
    "    # Print out normalized prices\n",
    "    golem = np.asarray(golem)\n",
    "    eth = np.asarray(eth)\n",
    "    golem = 1.0 * (golem - eth) / eth\n",
    "    eth = np.zeros([eth.shape[0]])\n",
    "    eth = eth.tolist()\n",
    "    #for eth_price, golem_price in zip(eth, golem):\n",
    "    #    golem_price = 1.0 * (golem_price - eth_price) / eth_price\n",
    "    #    eth_price = 0\n",
    "    #    golem_ma += golem_price\n",
    "    #    i += 1\n",
    "    #    if i == 5\n",
    "    #    print(\"%.2f %.2f\" % (eth_price, golem_price))\n",
    "    d = {'ma': golem}\n",
    "    df = pd.DataFrame(data=d)\n",
    "    l = []\n",
    "    l.append(np.round(df['ma'].rolling(window = 5, center = False).mean(), 2))\n",
    "    for i in range(4,len(l[0])):\n",
    "        print(\"%.2f %.2f\" % (eth[i], l[0][i]))"
   ]
  },
  {
   "cell_type": "markdown",
   "metadata": {},
   "source": [
    "So far, our analysis has been relatively qualitative, by viewing the price time series in a graph. Before we get to the final analysis of the ETF, lets do some preliminary quantitative analysis of how two cryptocurrencies compare, so we can better interpret our final results.\n",
    "\n",
    "Your job in this problem is to compute the correlation between the two raw price sequences, again inputted as arrays. Your function compute_correlations(eth, golem, neo)\n",
    "should print three lines, consisting of the pairwise correlation values between the 3 cryptocurrencies. \n",
    "\n",
    "While simple, this procedure will give us a much better idea of which coins are most related. We suggest you look into the built-in functionality of the numpy package.\n",
    "\n",
    "As a little background, correlation is a number that measures how closely two variables are related. It ranges between -1 and 1, and is unaffected by scaling either of the variables. Read more here.\n",
    "\n",
    "Example 1:\n",
    "```\n",
    "Input: \n",
    "eth = [23, 24, 25, ...]\n",
    "golem = [1, 2, 3, ...]\n",
    "neo = [7, 5, 11, ...]\n",
    "\n",
    "Output:\n",
    "<correlation_eth_and_golem>\n",
    "<correlation_eth_and_neo>\n",
    "<correlation_golem_and_neo>\n",
    "```"
   ]
  },
  {
   "cell_type": "code",
   "execution_count": 4,
   "metadata": {
    "collapsed": true
   },
   "outputs": [],
   "source": [
    "def compute_correlations(self, eth, golem, neo):\n",
    "    print(\"%.5f\" % np.corrcoef(eth, golem)[0][1])\n",
    "    print(\"%.5f\" % np.corrcoef(eth, neo)[0][1])\n",
    "    print(\"%.5f\" % np.corrcoef( golem, neo)[0][1])"
   ]
  },
  {
   "cell_type": "code",
   "execution_count": null,
   "metadata": {
    "collapsed": true
   },
   "outputs": [],
   "source": []
  }
 ],
 "metadata": {
  "kernelspec": {
   "display_name": "Python 3",
   "language": "python",
   "name": "python3"
  },
  "language_info": {
   "codemirror_mode": {
    "name": "ipython",
    "version": 3
   },
   "file_extension": ".py",
   "mimetype": "text/x-python",
   "name": "python",
   "nbconvert_exporter": "python",
   "pygments_lexer": "ipython3",
   "version": "3.6.4"
  }
 },
 "nbformat": 4,
 "nbformat_minor": 2
}

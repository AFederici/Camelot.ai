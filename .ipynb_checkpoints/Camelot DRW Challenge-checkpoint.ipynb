{
 "cells": [
  {
   "cell_type": "code",
   "execution_count": 1,
   "metadata": {
    "collapsed": true
   },
   "outputs": [],
   "source": [
    "#CHALLENGE CAR 1\n",
    "import re\n",
    "import string\n",
    "class Solution:\n",
    "    def reformat_cars(self, cars):\n",
    "        for i in cars:\n",
    "            x = re.split(r'[, ]', i)\n",
    "            x = [''.join(c for c in s if c not in string.punctuation) for s in x]\n",
    "            car = ''\n",
    "            year = ''\n",
    "            for j in x:\n",
    "                if j.isdigit():\n",
    "                    if len(j) < 4:\n",
    "                        year = '20' + j\n",
    "                    else:\n",
    "                        year = j\n",
    "                else:\n",
    "                    car = j.upper()\n",
    "            print(car, year)"
   ]
  },
  {
   "cell_type": "code",
   "execution_count": 2,
   "metadata": {
    "collapsed": true
   },
   "outputs": [],
   "source": [
    "class Solution:\n",
    "    def find_most_frequent(self, cars):\n",
    "        x = [words for segments in cars for words in segments.split()]\n",
    "        x = x[::2]\n",
    "        print(max(set(x), key=x.count))"
   ]
  },
  {
   "cell_type": "code",
   "execution_count": 3,
   "metadata": {
    "collapsed": true
   },
   "outputs": [],
   "source": [
    "class Solution:\n",
    "    def get_books(self):\n",
    "        number = {'one':1,'two':2,'three':3,'four':4,'five':5}\n",
    "        for i in range(1,6):\n",
    "            url = 'http://books.toscrape.com/catalogue/page-' + str(i) + '.html'\n",
    "            r = urllib.request.urlopen(url).read()\n",
    "            soup = BeautifulSoup(r, 'html.parser')\n",
    "            for x in soup.find_all('li', {'class': 'col-xs-6 col-sm-4 col-md-3 col-lg-3'}):\n",
    "                \n",
    "                price = x.find('p', {'class': 'price_color'}).getText()\n",
    "                cols = x.find_all('p')\n",
    "                for col in cols:\n",
    "                    if col.has_key('class') and col['class'][0] == 'star-rating':\n",
    "                            star = col['class'][1]\n",
    "                star = star.lower()\n",
    "                if(number[star]) > 3:\n",
    "                    print(price[1:], number[star])"
   ]
  },
  {
   "cell_type": "code",
   "execution_count": 4,
   "metadata": {
    "collapsed": true
   },
   "outputs": [],
   "source": [
    "import pandas as pd\n",
    "import numpy as np\n",
    "\n",
    "######################################################################\n",
    "#\n",
    "# You can compute a base 2 logarithm with:\n",
    "# np.log2(x)\n",
    "#\n",
    "######################################################################\n",
    "from collections import Counter\n",
    "import math\n",
    "def entropy_f(prob):\n",
    "    return -1.0 * prob * np.log2(prob)\n",
    "    \n",
    "class Solution:\n",
    "    def get_entropy(self, df, cutoff):\n",
    "        df['e'] = 0\n",
    "        for ind, row in df.iterrows():\n",
    "            if len(row['name']) > cutoff:\n",
    "                #print(len(row['name']))\n",
    "                df['e'][ind] = 1\n",
    "        list_stars = df['stars'].tolist()\n",
    "        s1_0 = 0\n",
    "        s2_0 = 0\n",
    "        s3_0 = 0\n",
    "        s4_0 = 0\n",
    "        s5_0 = 0\n",
    "        list_title = df['e'].tolist()\n",
    "        total_len = len(list_stars)\n",
    "        for i in range(total_len):\n",
    "            if list_stars[i] == 1:\n",
    "                if list_title[i] == 0:\n",
    "                    s1_0 += 1\n",
    "            elif list_stars[i] == 2:\n",
    "                if list_title[i] == 0:\n",
    "                    s2_0 += 1\n",
    "            elif list_stars[i] == 3:\n",
    "                if list_title[i] == 0:\n",
    "                    s3_0 += 1\n",
    "            elif list_stars[i] == 4:\n",
    "                if list_title[i] == 0:\n",
    "                    s4_0 += 1\n",
    "            elif list_stars[i] == 5:\n",
    "                if list_title[i] == 0:\n",
    "                    s5_0 += 1\n",
    "        val_stars = Counter(list_stars)\n",
    "        for key in val_stars:\n",
    "            if key == 1:\n",
    "                prob_s1 = 1.0 * val_stars[key] / total_len\n",
    "                prob_t1 = 1.0 * s1_0 / val_stars[key]\n",
    "            if key == 2:\n",
    "                prob_s2 = 1.0 * val_stars[key] / total_len\n",
    "                prob_t2 = 1.0 * s2_0 / val_stars[key]\n",
    "            if key == 3:\n",
    "                prob_s3 = 1.0 * val_stars[key] / total_len\n",
    "                prob_t3 = 1.0 * s3_0 / val_stars[key]\n",
    "            if key == 4:\n",
    "                prob_s4 = 1.0 * val_stars[key] / total_len\n",
    "                prob_t4 = 1.0 * s4_0 / val_stars[key]\n",
    "            if key == 5:\n",
    "                prob_s5 = 1.0 * val_stars[key] / total_len\n",
    "                prob_t5 = 1.0 * s5_0 / val_stars[key]\n",
    "        entropy = prob_s1 * (entropy_f(prob_t1) + entropy_f(1- prob_t1))\n",
    "        entropy += prob_s2 * (entropy_f(prob_t2) + entropy_f(1- prob_t2))\n",
    "        entropy += prob_s3 * (entropy_f(prob_t3) + entropy_f(1- prob_t3))\n",
    "        entropy += prob_s4 * (entropy_f(prob_t4) + entropy_f(1- prob_t4))\n",
    "        entropy += prob_s5 * (entropy_f(prob_t5) + entropy_f(1- prob_t5))\n",
    "        print('%.5f'%(entropy))"
   ]
  },
  {
   "cell_type": "code",
   "execution_count": 5,
   "metadata": {
    "collapsed": true
   },
   "outputs": [],
   "source": [
    "#make above prettier here but keep that solution cause it works"
   ]
  },
  {
   "cell_type": "code",
   "execution_count": null,
   "metadata": {
    "collapsed": true
   },
   "outputs": [],
   "source": [
    "import pandas as pd\n",
    "import numpy as np\n",
    "\n",
    "######################################################################\n",
    "#\n",
    "# You can compute a base 2 logarithm with:\n",
    "# np.log2(x)\n",
    "#\n",
    "######################################################################\n",
    "from collections import Counter\n",
    "import math\n",
    "def entropy_f(prob):\n",
    "    return -1.0 * prob * np.log2(prob)\n",
    "    \n",
    "class Solution:\n",
    "    def get_entropy(self, df, cutoff):\n",
    "        df['e'] = 0\n",
    "        for ind, row in df.iterrows():\n",
    "            if len(row['name']) > cutoff:\n",
    "                #print(len(row['name']))\n",
    "                df['e'][ind] = 1\n",
    "        list_stars = df['stars'].tolist()\n",
    "        types = len(set(list_stars))\n",
    "        s0 = [0] * types\n",
    "        list_title = df['e'].tolist()\n",
    "        total_len = len(list_stars)\n",
    "        for i in range(total_len):\n",
    "            if list_title[i] == 0:\n",
    "                s0[list_stars[i] - 1] += 1\n",
    "        val_stars = Counter(list_stars)\n",
    "        entropy = 0\n",
    "        for key in val_stars:\n",
    "            prob_s = 1.0 * val_stars[key] / total_len\n",
    "            prob_t = 1.0 * s0[key - 1] / val_stars[key]\n",
    "            entropy += prob_s * (entropy_f(prob_t) + entropy_f(1- prob_t))\n",
    "\n",
    "        print('%.5f'%(entropy))"
   ]
  },
  {
   "cell_type": "code",
   "execution_count": 6,
   "metadata": {
    "collapsed": true
   },
   "outputs": [],
   "source": [
    "import pandas as pd\n",
    "import numpy as np\n",
    "def split(s):\n",
    "    return s.split()[0]\n",
    "def money(s):\n",
    "    profits = {1:-2, 2:-1, 3:0, 4:1, 5:2}\n",
    "    return profits[s]\n",
    "class Solution:\n",
    "    def buy_books(self, df, first_words):\n",
    "        df['name'] = df['name'].apply(split)\n",
    "        #the column name is just the first words\n",
    "        df['profits'] = df['stars'].apply(money)\n",
    "        #new column with money from each book\n",
    "        \n",
    "        #first word -> all the profits together\n",
    "        #if this nets to be positive, the risk is worth buying the book despite the possibility the book is one that starts with the and at a lost\n",
    "        df2 = df.groupby('name')['profits'].sum()\n",
    "        for word in first_words:\n",
    "            if df2[word] > 0:\n",
    "                print(1)\n",
    "            else:\n",
    "                print(0)\n",
    "        "
   ]
  },
  {
   "cell_type": "code",
   "execution_count": 7,
   "metadata": {},
   "outputs": [
    {
     "data": {
      "text/plain": [
       "[3, 3, 4, 5]"
      ]
     },
     "execution_count": 7,
     "metadata": {},
     "output_type": "execute_result"
    }
   ],
   "source": []
  },
  {
   "cell_type": "code",
   "execution_count": null,
   "metadata": {
    "collapsed": true
   },
   "outputs": [],
   "source": []
  }
 ],
 "metadata": {
  "kernelspec": {
   "display_name": "Python 3",
   "language": "python",
   "name": "python3"
  },
  "language_info": {
   "codemirror_mode": {
    "name": "ipython",
    "version": 3
   },
   "file_extension": ".py",
   "mimetype": "text/x-python",
   "name": "python",
   "nbconvert_exporter": "python",
   "pygments_lexer": "ipython3",
   "version": "3.6.4"
  }
 },
 "nbformat": 4,
 "nbformat_minor": 2
}

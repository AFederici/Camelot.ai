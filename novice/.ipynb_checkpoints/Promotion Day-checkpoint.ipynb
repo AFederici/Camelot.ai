{
 "cells": [
  {
   "cell_type": "markdown",
   "metadata": {},
   "source": [
    "In this problem, King Arthur would like to know who the bravest knight is -- that is, who killed the most dragons this week. You'll receive a dictionary mapping each knight to an array of 7 non-negative integers, representing the number of dragons the knight slew on each day. \n",
    "\n",
    "Write a function bravest_knight(knights_data), that takes in the dictionary, and prints the name of the bravest knight. You can assume there will be no ties for the most dragons slain. \n",
    "\n",
    "Example 1:\n",
    "```\n",
    "Input:\n",
    "knights_data = {\n",
    "    \"Gawain\": [0, 1, 2, 4, 2, 1, 1],\n",
    "    \"Lancelot\": [3, 2, 3, 7, 1, 0, 0],\n",
    "    \"Percival\": [0, 3, 3, 2, 10, 10, 5],\n",
    "    \"Gareth\": [9, 10, 1, 7, 2, 0, 7]\n",
    "}\n",
    "\n",
    "Output:\n",
    "Gareth\n",
    "```"
   ]
  },
  {
   "cell_type": "code",
   "execution_count": 1,
   "metadata": {
    "collapsed": true
   },
   "outputs": [],
   "source": [
    "def bravest_knight(self, knights_data):\n",
    "    best_key = 0\n",
    "    best_val = 0\n",
    "    for key, value in knights_data.items():\n",
    "        if sum(value) >= best_val:\n",
    "            best_val = sum(value)\n",
    "            best_key = key\n",
    "    print(best_key)"
   ]
  },
  {
   "cell_type": "markdown",
   "metadata": {},
   "source": [
    "King Arthur wants you to identify the knights who didn't slay any dragons for two consecutive days over this week. This is a strong indicator that they instead took a vacation and should be demoted!\n",
    "\n",
    "Your function laziest_knights(knights_data) will take in the same format dictionary, and should output the names of the knights who slew 0 dragons in two or more consecutive days. You should output one knight per line, in alphabetical order by their name. \n",
    "\n",
    "Example 1:\n",
    "```\n",
    "Input:\n",
    "knights_data = {\n",
    "    \"Gawain\": [0, 1, 2, 4, 2, 1, 1],\n",
    "    \"Lancelot\": [3, 2, 3, 7, 1, 0, 0],\n",
    "    \"Percival\": [0, 3, 3, 2, 10, 10, 5],\n",
    "    \"Gareth\": [9, 10, 1, 7, 2, 0, 7],\n",
    "    \"Tristan\": [0, 3, 0, 3, 7, 1, 0],\n",
    "    \"Agravain\": [9, 10, 0, 0, 0, 3, 1]\n",
    "}\n",
    "\n",
    "Output:\n",
    "Agravain\n",
    "Lancelot\n",
    "```"
   ]
  },
  {
   "cell_type": "code",
   "execution_count": 2,
   "metadata": {
    "collapsed": true
   },
   "outputs": [],
   "source": [
    "def laziest_knights(self, knights_data):\n",
    "    names = []\n",
    "    for key,value in knights_data.items():\n",
    "        for i in range(len(value)-1):\n",
    "            if value[i] == value[i+1] and value[i] == 0:\n",
    "                names.append(key)\n",
    "    for x in sorted(set(names)):\n",
    "        print(x)"
   ]
  },
  {
   "cell_type": "code",
   "execution_count": null,
   "metadata": {
    "collapsed": true
   },
   "outputs": [],
   "source": []
  }
 ],
 "metadata": {
  "kernelspec": {
   "display_name": "Python 3",
   "language": "python",
   "name": "python3"
  },
  "language_info": {
   "codemirror_mode": {
    "name": "ipython",
    "version": 3
   },
   "file_extension": ".py",
   "mimetype": "text/x-python",
   "name": "python",
   "nbconvert_exporter": "python",
   "pygments_lexer": "ipython3",
   "version": "3.6.4"
  }
 },
 "nbformat": 4,
 "nbformat_minor": 2
}

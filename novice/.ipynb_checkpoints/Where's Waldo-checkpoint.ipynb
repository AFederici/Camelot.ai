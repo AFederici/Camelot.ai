{
 "cells": [
  {
   "cell_type": "markdown",
   "metadata": {},
   "source": [
    "Oh no! Your friend has challenged you to a game of Where's Waldo on a very large, grayscale image--it's impossible to search for Waldo by eye alone. Luckily enough, you have a good idea of what the shirt Waldo is wearing looks like. Specifically, you know that the shirt's grayscale color value falls somewhere between 220 and 255, inclusive.\n",
    "\n",
    "Given a N x N integer numpy matrix representing a grayscale image with values between 0 and 255 inclusive, write the function get_candidate_locations(img) to calculate an N x N bit mask with 1's at locations which could contain Waldo, and 0's at all other locations. As output, your function should print the values in the bit mask row by row, with one value per line.\n",
    "\n",
    "Example 1:\n",
    "```    \n",
    "Input: \n",
    "img = \n",
    "[[ 10,  0],\n",
    " [224, 89]]\n",
    "\n",
    "Output: \n",
    "0\n",
    "0\n",
    "1\n",
    "0\n",
    "```\n",
    "Explanation: \n",
    "Since 244 is the only value between 220 and 255, we print a '1' for that location only."
   ]
  },
  {
   "cell_type": "code",
   "execution_count": 1,
   "metadata": {
    "collapsed": true
   },
   "outputs": [],
   "source": [
    "import numpy as np\n",
    "\n",
    "def get_candidate_locations(self, img):\n",
    "    for row in img:\n",
    "        for col in row:\n",
    "            if col >= 220 and col <= 255:\n",
    "                print(1)\n",
    "            else:\n",
    "                print(0)"
   ]
  },
  {
   "cell_type": "markdown",
   "metadata": {},
   "source": [
    "Unfortunately, you realize that your filtering scheme still leaves too many candidates  to process by inspection--there are many dark pixels in an image. Observing that Waldo is larger than one pixel and exhibits internal \"smoothness,\" i.e., there are very few sharp color transitions within Waldo, you decide to apply a form of smoothing to the image to speed up the search. \n",
    "\n",
    "Re-evaluate the image by considering 2 x 2 overlapping \"patches,\" where each patch is a sub-matrix. For example, a 3 x 3 matrix contains four overlapping 2 x 2 patches. A patch will only be a candidate location if the mean value of its 4 component pixels is between 220 and 255, inclusive. Write the function get_candidate_patches(img) to smooth the input numpy matrix and calculate a bit mask of valid candidates over the new patched matrix. As before, print the bit mask in row order, with one value per line.\n",
    "\n",
    "Example 1:\n",
    "```\n",
    "Input:\n",
    "img = \n",
    "[[127, 245, 205],\n",
    " [ 63, 254, 255],\n",
    " [  0,   1,   0]]\n",
    "\n",
    "Output:\n",
    "0 \n",
    "1\n",
    "0\n",
    "0\n",
    "```\n",
    "Explanation:\n",
    "The sub-matrix:\n",
    "[[245, 205],\n",
    " [254, 255]]\n",
    "has an average value of 239.75, which falls within the range 220 to 255. All other patches do not satisfy this criteria.\n"
   ]
  },
  {
   "cell_type": "code",
   "execution_count": 2,
   "metadata": {
    "collapsed": true
   },
   "outputs": [],
   "source": [
    "def get_candidate_patches(self, img):\n",
    "    size = img.shape\n",
    "    for i in range(2,size[0]+1):\n",
    "        for j in range(2, size[1]+1):\n",
    "            total = img[i-2:i,j-2:j].sum() / 4.0\n",
    "            if total >= 220 and total <= 255:\n",
    "                print(1)\n",
    "            else:\n",
    "                print(0)"
   ]
  },
  {
   "cell_type": "code",
   "execution_count": null,
   "metadata": {
    "collapsed": true
   },
   "outputs": [],
   "source": []
  }
 ],
 "metadata": {
  "kernelspec": {
   "display_name": "Python 3",
   "language": "python",
   "name": "python3"
  },
  "language_info": {
   "codemirror_mode": {
    "name": "ipython",
    "version": 3
   },
   "file_extension": ".py",
   "mimetype": "text/x-python",
   "name": "python",
   "nbconvert_exporter": "python",
   "pygments_lexer": "ipython3",
   "version": "3.6.4"
  }
 },
 "nbformat": 4,
 "nbformat_minor": 2
}

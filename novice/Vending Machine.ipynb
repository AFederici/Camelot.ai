{
 "cells": [
  {
   "cell_type": "markdown",
   "metadata": {},
   "source": [
    "\n",
    "Vending Machine Troubles\n",
    "Last week, you purchased a bag of chips from the vending machine in your building for $1.99. However, as it was dispensing, your chips got stuck. You were furious. \n",
    "\n",
    "You decide to do something about it. The first step is to better understand the vending machines in your area, so for a week, you spend 2 hours watching each of the machines in your neighborhood, keeping track of all the purchases that either get stuck, or go as planned, in that time span. \n",
    "\n",
    "You've recorded your data as an array, where each entry is another array consisting of `0's` and `1's` indicating if a purchase at that vending machine failed or succeeded, respectively.\n",
    "\n",
    "Write a function `evaluate_machines(data)`, that takes in your data, and prints the success rate of each vending machine, in the order they're given in the input data, one vending machine per line.\n",
    "\n",
    "Example 1:\n",
    "```\n",
    "Input: \n",
    "data = [[0, 1, 1, 0], [1, 1, 0], ...]\n",
    "\n",
    "Output:\n",
    "0.500\n",
    "0.666\n",
    "...\n",
    "```"
   ]
  },
  {
   "cell_type": "code",
   "execution_count": 2,
   "metadata": {
    "collapsed": true
   },
   "outputs": [],
   "source": [
    "def evaluate_machines(self, data):\n",
    "    for i in data:\n",
    "        total = sum(i)\n",
    "        length = len(i)\n",
    "        x = 1.0 * total / length\n",
    "        print(\"%.3f\" % x)"
   ]
  },
  {
   "cell_type": "markdown",
   "metadata": {},
   "source": [
    "Your research into the local vending machines has inspired you to determine the best vending machine in the area, once and for all. You've hired some extra help to monitor the vending machines, and keep track of the time it takes for someone to make purchase and leave with their goods. For now, we'll ignore the cases where someone's purchase gets stuck.\n",
    "\n",
    "The data you've collected again comes in the form of an array, where each entry is an array of integers indicating the number of seconds it took for someone to make their purchase. \n",
    "\n",
    "As with all data collection, you notice that there's some noise in your final data... some of the values just don't make sense. Let's define outlier values as being strictly less than 10, or strictly greater than 300 (no one takes that long). Be careful that we could end up with empty arrays, after filtering out the outliers!\n",
    "\n",
    "Your function `average_times(data)`, should take this data and print out the average time it took people to buy something at each vending machine, ignoring all outliers. Print one vending machine average per line.\n",
    "\n",
    "Example 1:\n",
    "```\n",
    "Input: \n",
    "data = [[13, 1, 14, 15], [150, 300, 450], ...]\n",
    "\n",
    "Output:\n",
    "14.000\n",
    "225.000\n",
    "...\n",
    "```"
   ]
  },
  {
   "cell_type": "code",
   "execution_count": null,
   "metadata": {
    "collapsed": true
   },
   "outputs": [],
   "source": [
    "def average_times(self, data):\n",
    "    for i in data:\n",
    "        sum = 0 \n",
    "        total = 0\n",
    "        for x in i:\n",
    "            if x >= 10 and x <= 300:\n",
    "                sum += x\n",
    "                total += 1 \n",
    "        x = 1.0 * sum / total\n",
    "        print(\"%.3f\" % x)"
   ]
  }
 ],
 "metadata": {
  "kernelspec": {
   "display_name": "Python 3",
   "language": "python",
   "name": "python3"
  },
  "language_info": {
   "codemirror_mode": {
    "name": "ipython",
    "version": 3
   },
   "file_extension": ".py",
   "mimetype": "text/x-python",
   "name": "python",
   "nbconvert_exporter": "python",
   "pygments_lexer": "ipython3",
   "version": "3.6.4"
  }
 },
 "nbformat": 4,
 "nbformat_minor": 2
}

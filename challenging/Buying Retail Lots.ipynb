{
 "cells": [
  {
   "cell_type": "markdown",
   "metadata": {},
   "source": [
    "The retail store chain Succ-ulent wants to expand into the district of Watertown. As the chief data scientist, you're in charge of identifying the most profitable neighborhoods to build a new store in. \n",
    "\n",
    "As a first step to pinpointing the best store locations, you'd like to analyze the distribution of the district's population. Fortunately, you've already scraped some statistics on Watertown's residents from the district website and compiled the data into a pandas DataFrame. Each entry in the dataset df describes one residential building and includes the number of residents, bedrooms, and bathrooms, as well as the latitude and longitude (given as coordinates) of the dwelling:\n",
    "```\n",
    "   residents   bed    bath\t     x\t          y\n",
    "0 \t 3.0\t 2\t 1      7160.00\t    6525.36\n",
    "1\t 1.0\t 1\t 1      7201.60\t    6627.76\n",
    "2\t 1.0\t 1\t 1      7035.36\t    6638.96\n",
    "...\n",
    "```\n",
    "However, there's a problem -- the dataset has not been preprocessed and includes several rows with missing data. Your first task is to identify which rows have missing data in the function missing_rows. As output, print the row numbers which have one or more fields missing, in ascending order. Each row number should be printed on a separate line.\n",
    "\n",
    "Example 1:\n",
    "```\n",
    "Input:\n",
    "df = <data as shown above>\n",
    "\n",
    "Output:\n",
    "<missing_row_index_1>\n",
    "<missing_row_index_2>\n",
    "<missing_row_index_3>\n",
    "```"
   ]
  },
  {
   "cell_type": "code",
   "execution_count": 1,
   "metadata": {
    "collapsed": true
   },
   "outputs": [],
   "source": [
    "import pandas as pd\n",
    "def missing_rows(self, df):\n",
    "    for index, row in df.iterrows():\n",
    "        if row.isnull().any():\n",
    "            print (index)"
   ]
  },
  {
   "cell_type": "markdown",
   "metadata": {},
   "source": [
    "You've identified the missing data rows, but now what? \n",
    "\n",
    "Ultimately, we'd like to estimate the total number of residents in any given neighborhood to gauge demand, so simply deleting the rows with missing data won't yield the most accurate results. Luckily, you've noticed that only residents fields are missing in the data. A better way to resolve the missing resident counts without discarding them is to \"impute,\" or guess, the values.\n",
    "\n",
    "We can use data points that are similar to the missing one to fill in the gap. For instance, dwellings with approximately the same coordinates, 3 beds, and 4 baths are likely to have similar numbers of residents. We can set the missing value to be the mean number of residents of the k complete data points closest to the point in question. This is supervised K-nearest-neighbors regression. \n",
    "\n",
    "You will implement your own version of KNN regression by hand in the function knn_predict. Your function should take in two numpy arrays, train (with dimensions n x m) and test (also n x m) as well as k, the number of points to take into account when computing means. The \"target field\" (i.e., residents) is the first column, and each point's features (all numerical) are encoded in the remaining columns. The test array has NaN's placed in the target field. The strategy is:\n",
    "1. For each test data point, find the k training data points that are closest in terms of Euclidean distance. (Compute this using the four feature fields, excluding the first target column)\n",
    "2. Find the average target field value (i.e. residents) among the k nearest neighbors from (1), and that's your prediction.\n",
    "As output, print the predicted target values for the test data, with one prediction per row. Note that these values should be in the same order as the corresponding data in the test dataset.\n",
    "\n",
    "Example 1:\n",
    "```\n",
    "Input:\n",
    "train = np.array([\n",
    "    [0, 2, 1, 7160.05, 6525.36], # first column is target\n",
    "    [0, 1, 1, 6932.25, 6624.91],\n",
    "    ...\n",
    "]),\n",
    "test = np.array([\n",
    "    [NaN, 3, 1, 7060.01, 6822.33], # first column is target\n",
    "    [NaN, 2, 4, 7007.85, 6325.34],\n",
    "    ...\n",
    "]),\n",
    "k = 2\n",
    "\n",
    "Output:\n",
    "<test_pred_1>\n",
    "<test_pred_2>\n",
    "<test_pred_3>\n",
    "...\n",
    "```\n",
    "Explanation: \n",
    "```\n",
    "For an example, consider the distance calculations for the first test point, (3, 1, 7060.01, 6822.33). Its distance from the first train point (2, 1, 7160.05, 6525.36) is:\n",
    "\n",
    "(3 - 2) ^ 2 + (1 - 1) ^ 2 + (7060.01 - 7060.05) ^ 2 + (6822.33 - 6525.36) ^ 2\n",
    "```"
   ]
  },
  {
   "cell_type": "code",
   "execution_count": 2,
   "metadata": {
    "collapsed": true
   },
   "outputs": [],
   "source": [
    "import numpy as np\n",
    "from sklearn.neighbors import KNeighborsRegressor\n",
    "def knn_predict(self, train, test, k):\n",
    "    yTrain = train[:,0]\n",
    "    xTrain = train[:,1:]\n",
    "    xTest = test[:,1:]\n",
    "    knn = KNeighborsRegressor(n_neighbors=k)\n",
    "    knn.fit(xTrain, yTrain)\n",
    "    predictions = knn.predict(xTest)\n",
    "    for val in predictions:\n",
    "        print(\"{:.2f}\".format(val))"
   ]
  },
  {
   "cell_type": "code",
   "execution_count": null,
   "metadata": {
    "collapsed": true
   },
   "outputs": [],
   "source": []
  }
 ],
 "metadata": {
  "kernelspec": {
   "display_name": "Python 3",
   "language": "python",
   "name": "python3"
  },
  "language_info": {
   "codemirror_mode": {
    "name": "ipython",
    "version": 3
   },
   "file_extension": ".py",
   "mimetype": "text/x-python",
   "name": "python",
   "nbconvert_exporter": "python",
   "pygments_lexer": "ipython3",
   "version": "3.6.5"
  }
 },
 "nbformat": 4,
 "nbformat_minor": 2
}
